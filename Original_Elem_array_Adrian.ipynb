{
  "nbformat": 4,
  "nbformat_minor": 0,
  "metadata": {
    "colab": {
      "provenance": []
    },
    "kernelspec": {
      "name": "python3",
      "display_name": "Python 3"
    },
    "language_info": {
      "name": "python"
    }
  },
  "cells": [
    {
      "cell_type": "code",
      "source": [
        "from array import array\n",
        "\n",
        "# Definir el array\n",
        "f = array('f', [1, 2, 3, 4, 5, 6, 7, 8, 9])\n",
        "\n",
        "# Reformatear el array en una matriz 3x3\n",
        "matriz_3x3 = [[f[i*3 + j] for j in range(3)] for i in range(3)]\n",
        "\n",
        "# Función para mostrar la matriz 3x3\n",
        "def mostrar_matriz(matriz):\n",
        "    for fila in matriz:\n",
        "        print(fila)\n",
        "\n",
        "# Función para buscar un elemento según su fila y columna en la matriz 3x3\n",
        "def buscar_elemento(matriz, fila, columna):\n",
        "    return matriz[fila - 1][columna - 1]\n",
        "\n",
        "# Mostrar la matriz 3x3\n",
        "print(\"Matriz 3x3:\")\n",
        "mostrar_matriz(matriz_3x3)\n",
        "\n",
        "# Solicitar al usuario la fila y la columna\n",
        "fila = int(input(\"\\nIngrese el número de fila (1-3): \"))\n",
        "columna = int(input(\"Ingrese el número de columna (1-3): \"))\n",
        "\n",
        "# Verificar que las entradas estén dentro de los límites\n",
        "if 1 <= fila <= 3 and 1 <= columna <= 3:\n",
        "    # Buscar el elemento en la matriz 3x3\n",
        "    elemento = buscar_elemento(matriz_3x3, fila, columna)\n",
        "    print(f\"\\nEl elemento en la fila {fila} y columna {columna} es: {elemento}\")\n",
        "else:\n",
        "    print(\"Fila o columna fuera de rango.\")\n"
      ],
      "metadata": {
        "colab": {
          "base_uri": "https://localhost:8080/"
        },
        "id": "PmNhT6vfAPBI",
        "outputId": "d400c2f2-b288-4cae-d27d-574f7927dbb3"
      },
      "execution_count": 5,
      "outputs": [
        {
          "output_type": "stream",
          "name": "stdout",
          "text": [
            "Matriz 3x3:\n",
            "[1.0, 2.0, 3.0]\n",
            "[4.0, 5.0, 6.0]\n",
            "[7.0, 8.0, 9.0]\n",
            "\n",
            "Ingrese el número de fila (1-3): 1\n",
            "Ingrese el número de columna (1-3): 1\n",
            "\n",
            "El elemento en la fila 1 y columna 1 es: 1.0\n"
          ]
        }
      ]
    },
    {
      "cell_type": "code",
      "source": [
        "from array import array\n",
        "\n",
        "# Definir el array\n",
        "f = array('f', [1, 2, 3, 4, 5, 6, 7, 8, 9])\n",
        "\n",
        "# Mostrar la matriz 3x3 original\n",
        "print(\"Matriz original:\")\n",
        "for i in range(0, len(f), 3):\n",
        "    print(\"[\" + \" \".join(map(str, f[i:i+3])) + \"]\")\n",
        "\n",
        "# 1. Multiplicar el primer renglón por 2\n",
        "for i in range(3):\n",
        "    f[i] *= 2\n",
        "\n",
        "# 2. Intercambiar el primer y segundo renglón\n",
        "f[0:3], f[3:6] = f[3:6], f[0:3]\n",
        "\n",
        "# 3. Sumar el tercer renglón al segundo renglón multiplicado por un escalar, por ejemplo, 3\n",
        "for i in range(3):\n",
        "    f[i+3] += 3 * f[i+6]\n",
        "\n",
        "# Mostrar la matriz resultante\n",
        "print(\"\\nMatriz resultante:\")\n",
        "for i in range(0, len(f), 3):\n",
        "    print(\"[\" + \" \".join(map(str, f[i:i+3])) + \"]\")\n"
      ],
      "metadata": {
        "colab": {
          "base_uri": "https://localhost:8080/"
        },
        "id": "nyPcfubaXnAr",
        "outputId": "1afb8f1e-7571-4974-a41d-c5e5beaf489c"
      },
      "execution_count": 16,
      "outputs": [
        {
          "output_type": "stream",
          "name": "stdout",
          "text": [
            "Matriz original:\n",
            "[1.0 2.0 3.0]\n",
            "[4.0 5.0 6.0]\n",
            "[7.0 8.0 9.0]\n",
            "\n",
            "Matriz resultante:\n",
            "[4.0 5.0 6.0]\n",
            "[23.0 28.0 33.0]\n",
            "[7.0 8.0 9.0]\n"
          ]
        }
      ]
    },
    {
      "cell_type": "code",
      "source": [
        "import numpy as np\n",
        "from array import array\n",
        "\n",
        "# Definir el array\n",
        "f = array('f',[1, 2, 3, 4, 5, 6, 7, 8, 9])\n",
        "\n",
        "# Convertir a matriz de NumPy\n",
        "matriz = np.array(f).reshape((3, 3))\n",
        "\n",
        "# Mostrar la matriz original\n",
        "print(\"Matriz original:\")\n",
        "print(matriz)\n",
        "\n",
        "# 1. Multiplicar el primer renglón por 2\n",
        "matriz[0] *= 2\n",
        "print(\"\\nMatriz después de multiplicar el primer renglón por 2:\")\n",
        "print(matriz)\n",
        "\n",
        "# 2. Intercambiar el primer y segundo renglón\n",
        "matriz[[0, 1]] = matriz[[1, 0]]\n",
        "print(\"\\nMatriz después de intercambiar el primer y segundo renglón:\")\n",
        "print(matriz)\n",
        "\n",
        "# 3. Sumar el tercer renglón al segundo renglón multiplicado por un escalar, por ejemplo, 3\n",
        "matriz[1] += 3 * matriz[2]\n",
        "print(\"\\nMatriz después de sumar el tercer renglón al segundo renglón multiplicado por 3:\")\n",
        "print(matriz)\n"
      ],
      "metadata": {
        "colab": {
          "base_uri": "https://localhost:8080/"
        },
        "id": "d1uNSOT3cX8t",
        "outputId": "beb9fb32-dc03-49cf-901c-ad149c965256"
      },
      "execution_count": 19,
      "outputs": [
        {
          "output_type": "stream",
          "name": "stdout",
          "text": [
            "Matriz original:\n",
            "[[1. 2. 3.]\n",
            " [4. 5. 6.]\n",
            " [7. 8. 9.]]\n",
            "\n",
            "Matriz después de multiplicar el primer renglón por 2:\n",
            "[[2. 4. 6.]\n",
            " [4. 5. 6.]\n",
            " [7. 8. 9.]]\n",
            "\n",
            "Matriz después de intercambiar el primer y segundo renglón:\n",
            "[[4. 5. 6.]\n",
            " [2. 4. 6.]\n",
            " [7. 8. 9.]]\n",
            "\n",
            "Matriz después de sumar el tercer renglón al segundo renglón multiplicado por 3:\n",
            "[[ 4.  5.  6.]\n",
            " [23. 28. 33.]\n",
            " [ 7.  8.  9.]]\n"
          ]
        }
      ]
    }
  ]
}
